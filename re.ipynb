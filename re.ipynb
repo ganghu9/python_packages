{
 "cells": [
  {
   "cell_type": "markdown",
   "metadata": {},
   "source": [
    "### Re\n",
    "\n",
    "A regular expression (shortened as regex [...]) is a sequence of characters that specifies a search pattern in text. [...] used by string-searching algorithms for \"find\" or \"find and replace\" operations on strings, or for input validation.\n",
    "\n",
    "Links: https://www.pythoncheatsheet.org/cheatsheet/regular-expressions\n",
    "\n",
    "\n",
    "1. Import the regex module with import re.\n",
    "2. Create a Regex object with the re.compile() function. (Remember to use a raw string.)\n",
    "3. Pass the string you want to search into the Regex object’s search() method. This returns a Match object.\n",
    "4. Call the Match object’s group() method to return a string of the actual matched text."
   ]
  },
  {
   "cell_type": "code",
   "execution_count": 1,
   "metadata": {
    "ExecuteTime": {
     "end_time": "2023-08-20T20:40:54.870024300Z",
     "start_time": "2023-08-20T20:40:54.863393500Z"
    }
   },
   "outputs": [],
   "source": [
    "import re"
   ]
  },
  {
   "cell_type": "code",
   "execution_count": 2,
   "metadata": {
    "ExecuteTime": {
     "end_time": "2023-08-20T20:41:01.631262900Z",
     "start_time": "2023-08-20T20:41:01.613340700Z"
    }
   },
   "outputs": [
    {
     "name": "stdout",
     "output_type": "stream",
     "text": [
      "<re.Match object; span=(0, 2), match='ab'>\n",
      "ab\n",
      "['ab', 'ab']\n"
     ]
    }
   ],
   "source": [
    "str = 'abcdab'\n",
    "pattern = 'ab'\n",
    "\n",
    "res = re.match(pattern, str)\n",
    "\n",
    "print(res)\n",
    "print(res.group())\n",
    "print(re.findall(pattern, str))"
   ]
  },
  {
   "cell_type": "code",
   "execution_count": 106,
   "metadata": {},
   "outputs": [
    {
     "name": "stdout",
     "output_type": "stream",
     "text": [
      "<re.Match object; span=(0, 1), match='a'>\n",
      "<re.Match object; span=(0, 1), match='D'>\n",
      "None\n",
      "===============\n",
      "<re.Match object; span=(0, 2), match='12'>\n",
      "None\n",
      "===============\n",
      "<re.Match object; span=(0, 1), match='\\n'>\n",
      "<re.Match object; span=(0, 1), match='\\t'>\n",
      "<re.Match object; span=(0, 1), match=' '>\n",
      "None\n",
      "None\n",
      "===============\n",
      "<re.Match object; span=(0, 1), match='s'>\n",
      "<re.Match object; span=(0, 1), match='w'>\n",
      "<re.Match object; span=(0, 1), match='\\n'>\n",
      "None\n",
      "<re.Match object; span=(0, 1), match='*'>\n",
      "<re.Match object; span=(0, 1), match='%'>\n"
     ]
    }
   ],
   "source": [
    "print(re.match('.', 'a'))\n",
    "print(re.match('.', 'D'))\n",
    "print(re.match('.', '\\n')) # any character, except newline characters\n",
    "\n",
    "print('===============')\n",
    "\n",
    "print(re.match('\\d\\d', '122D'))\n",
    "print(re.match('\\D', '122D'))\n",
    "\n",
    "print('===============')\n",
    "\n",
    "print(re.match('\\s', '\\nD'))\n",
    "print(re.match('\\s', '\\tD'))\n",
    "print(re.match('\\s', ' D'))\n",
    "print(re.match('\\s', '\\\\D'))\n",
    "print(re.match('\\S', ' 122D'))\n",
    "\n",
    "print('===============')\n",
    "\n",
    "print(re.match('\\w', 'sad122D'))\n",
    "print(re.match('\\w', 'wer122D'))\n",
    "print(re.match('\\W', '\\nsad122D'))\n",
    "print(re.match('\\W', '4sad122D'))\n",
    "print(re.match('\\W', '*sad122D'))\n",
    "print(re.match('\\W', '%sad122D'))\n",
    "\n"
   ]
  },
  {
   "cell_type": "code",
   "execution_count": 46,
   "metadata": {},
   "outputs": [
    {
     "name": "stdout",
     "output_type": "stream",
     "text": [
      "<re.Match object; span=(0, 1), match='a'>\n",
      "None\n",
      "['b']\n",
      "<re.Match object; span=(0, 1), match='e'>\n",
      "<re.Match object; span=(0, 1), match='3'>\n",
      "<re.Match object; span=(0, 1), match='S'>\n",
      "==============\n",
      "<re.Match object; span=(0, 1), match='z'>\n",
      "<re.Match object; span=(0, 1), match='S'>\n",
      "None\n",
      "<re.Match object; span=(0, 1), match='2'>\n",
      "==============\n",
      "<re.Match object; span=(0, 1), match='3'>\n",
      "<re.Match object; span=(0, 2), match='33'>\n",
      "<re.Match object; span=(0, 2), match='3a'>\n",
      "<re.Match object; span=(0, 2), match='55'>\n",
      "<re.Match object; span=(0, 5), match='我aD5&'>\n"
     ]
    }
   ],
   "source": [
    "print(re.match('[abcd]', 'ab'))\n",
    "print(re.match('[abcd]', 'zb'))\n",
    "print(re.findall('[abcd]', 'zb'))\n",
    "print(re.match('[a-e]', 'eb'))\n",
    "print(re.match('[0-9]', '3eb'))\n",
    "print(re.match('[A-Z]', 'Seb'))\n",
    "\n",
    "print('==============')\n",
    "\n",
    "print(re.match('[^a-e]', 'zb')) # ^: not\n",
    "print(re.match('[a-zA-Z]', 'Seb'))\n",
    "print(re.match('[a-zA-Z]', '2Seb'))\n",
    "print(re.match('[0-9a-zA-Z]', '2Seb'))\n",
    "\n",
    "print('==============')\n",
    "\n",
    "print(re.match('[0-9]', '33'))\n",
    "print(re.match('[0-9][0-9]', '33'))\n",
    "print(re.match('[0-9][a-z]', '3a'))\n",
    "print(re.match('\\w\\w', '55'))\n",
    "print(re.match('[\\w\\W][\\w\\W][\\w\\W][\\w\\W][\\w\\W]', '我aD5&'))\n",
    "\n",
    "\n",
    "\n"
   ]
  },
  {
   "cell_type": "code",
   "execution_count": 75,
   "metadata": {},
   "outputs": [
    {
     "name": "stdout",
     "output_type": "stream",
     "text": [
      "c:\\\\python\\ne\\test.txt\n",
      "c:\\\\python\\ne\\test.txt\n",
      "None\n",
      "None\n",
      "<re.Match object; span=(0, 2), match='\\\\d'>\n",
      "<re.Match object; span=(0, 2), match='\\\\d'>\n",
      "=====================\n",
      "<re.Match object; span=(0, 1), match='\\n'>\n",
      "=====================\n",
      "<re.Match object; span=(0, 21), match='c:\\\\python\\\\ne\\\\test.txt'>\n"
     ]
    }
   ],
   "source": [
    "# how to use regular expression to deal with path\n",
    "str1 = 'c:\\\\\\python\\\\ne\\\\test.txt'\n",
    "print(str1)\n",
    "\n",
    "str2 = r'c:\\\\python\\ne\\test.txt'\n",
    "print(str2)\n",
    "\n",
    "\n",
    "print(re.match('\\d', '\\d')) # \\d is a regular expression, \\d is a path, which is processed into \\\\d\n",
    "print(re.match('\\\\d', '\\d')) # The first one is a regular expression, the first '\\' wouble translate the second '\\', the last \\d is a path, which is processed into \\\\d.  \\d is not \\\\d\n",
    "print(re.match('\\\\\\d', '\\d')) # \\\\d \\\\d \n",
    "print(re.match('\\\\\\\\d', '\\d')) # \\\\d \\\\d \n",
    "# print(re.match(r'\\d', r'\\d'))\n",
    "\n",
    "print('=====================')\n",
    "\n",
    "# 1. treat it as a python string, 2. and then process it as a regular expression\n",
    "print(re.match('\\n', '\\n')) \n",
    "\n",
    "print('=====================')\n",
    "\n",
    "print(re.match(r'c:\\\\python\\\\ne\\\\test.txt', 'c:\\\\python\\\\ne\\\\test.txt'))\n"
   ]
  },
  {
   "cell_type": "code",
   "execution_count": 86,
   "metadata": {},
   "outputs": [
    {
     "name": "stdout",
     "output_type": "stream",
     "text": [
      "<re.Match object; span=(0, 10), match='5855551212'>\n",
      "<re.Match object; span=(0, 10), match='5855551212'>\n",
      "None\n",
      "<re.Match object; span=(0, 0), match=''>\n",
      "<re.Match object; span=(0, 1), match='5'>\n",
      "<re.Match object; span=(0, 4), match='5855'>\n",
      "<re.Match object; span=(0, 10), match='5855551212'>\n",
      "<re.Match object; span=(0, 4), match='5855'>\n",
      "<re.Match object; span=(0, 6), match='585555'>\n"
     ]
    }
   ],
   "source": [
    "# Matching a number\n",
    "# number: 585-555-1212\n",
    "\n",
    "print(re.match('\\d\\d\\d\\d\\d\\d\\d\\d\\d\\d', '5855551212'))\n",
    "\n",
    "print(re.match('\\d*', '5855551212')) # zero or more digits\n",
    "print(re.match('\\d+', 'a5855551212')) # at least one digit\n",
    "print(re.match('\\d?', 'a5855551212')) # zero or one digit\n",
    "print(re.match('\\d?', '5855551212')) # zero or one digit\n",
    "\n",
    "print(re.match('\\d{4}', '5855551212')) # {n} exactly n times\n",
    "print(re.match('\\d{4,}', '5855551212')) # {n,} n or more times\n",
    "print(re.match('\\d{,4}', '5855551212')) # {,n} up to n times\n",
    "print(re.match('\\d{2,6}', '5855551212')) # {m,n} at least m and at most n times\n"
   ]
  },
  {
   "cell_type": "code",
   "execution_count": 89,
   "metadata": {},
   "outputs": [
    {
     "name": "stdout",
     "output_type": "stream",
     "text": [
      "None\n",
      "<re.Match object; span=(0, 11), match='58555551212'>\n"
     ]
    }
   ],
   "source": [
    "tel = '58555551212asdas1234'\n",
    "tel01 = '58555551212'\n",
    "\n",
    "\n",
    "print(re.match('^585[0-9][0-9][0-9][0-9]\\d{4}$', tel))\n",
    "print(re.match('^585[0-9][0-9][0-9][0-9]\\d{4}$', tel01))"
   ]
  },
  {
   "cell_type": "code",
   "execution_count": 101,
   "metadata": {},
   "outputs": [
    {
     "name": "stdout",
     "output_type": "stream",
     "text": [
      "['re']\n",
      "['re']\n",
      "['re', 're']\n",
      "['re', 're', 're']\n"
     ]
    }
   ],
   "source": [
    "str1 = 'relod readkn asdre sdaresd asdewfdsresadaf!'\n",
    "\n",
    "print(re.findall(r're\\b', str1)) # \\b: word boundary\n",
    "print(re.findall('re\\\\b', str1)) # the end with re\n",
    "print(re.findall('\\\\bre', str1)) # the start with re\n",
    "\n",
    "print(re.findall('\\\\Bre', str1)) # \\B: not word boundary"
   ]
  },
  {
   "cell_type": "code",
   "execution_count": 111,
   "metadata": {},
   "outputs": [
    {
     "name": "stdout",
     "output_type": "stream",
     "text": [
      "<re.Match object; span=(0, 10), match='2023-12-31'>\n",
      "<re.Match object; span=(0, 10), match='2023-12-31'>\n",
      "<re.Match object; span=(0, 10), match='2023-12-34'>\n",
      "None\n"
     ]
    }
   ],
   "source": [
    "# match a data\n",
    "t = '2023-12-34'\n",
    "print(re.match('2023-12-31', '2023-12-31'))\n",
    "print(re.match('\\d{4}-12-31', '2023-12-31'))\n",
    "print(re.match('\\d{4}-\\d{2}-\\d{2}', t))\n",
    "\n",
    "\n",
    "print(re.match('\\d{4}-(0[1-9]|1[0-2])-([0-2][0-9]|^3[0-1])', t))\n",
    "\n",
    "\n"
   ]
  },
  {
   "cell_type": "code",
   "execution_count": 163,
   "metadata": {},
   "outputs": [
    {
     "name": "stdout",
     "output_type": "stream",
     "text": [
      "<re.Match object; span=(0, 10), match='2023-12-31'>\n",
      "<re.Match object; span=(0, 10), match='2023-12-31'>\n",
      "<re.Match object; span=(0, 10), match='2023-12-24'>\n",
      "================\n",
      "2023-12-24\n",
      "2023\n",
      "12\n",
      "24\n"
     ]
    }
   ],
   "source": [
    "t = '2023-12-24'\n",
    "print(re.match('2023-12-31', '2023-12-31'))\n",
    "print(re.match('\\d{4}-12-31', '2023-12-31'))\n",
    "print(re.match('\\d{4}-\\d{2}-\\d{2}', t))\n",
    "\n",
    "print('================')\n",
    "\n",
    "print(re.match('(\\d{4})-(0[1-9]|1[0-2])-([0-2][0-9]|^3[0-1])', t).group())\n",
    "print(re.match('(\\d{4})-(0[1-9]|1[0-2])-([0-2][0-9]|^3[0-1])', t).group(1))\n",
    "print(re.match('(\\d{4})-(0[1-9]|1[0-2])-([0-2][0-9]|^3[0-1])', t).group(2))\n",
    "print(re.match('(\\d{4})-(0[1-9]|1[0-2])-([0-2][0-9]|^3[0-1])', t).group(3))"
   ]
  },
  {
   "cell_type": "code",
   "execution_count": 161,
   "metadata": {},
   "outputs": [
    {
     "name": "stdout",
     "output_type": "stream",
     "text": [
      "('2023', '12', '24')\n",
      "0\n",
      "10\n",
      "(0, 10)\n",
      "2023-12-24\n"
     ]
    }
   ],
   "source": [
    "print(re.match('(\\d{4})-(0[1-9]|1[0-2])-([0-2][0-9]|^3[0-1])', t).groups())\n",
    "print(re.match('(\\d{4})-(0[1-9]|1[0-2])-([0-2][0-9]|^3[0-1])', t).start())\n",
    "print(re.match('(\\d{4})-(0[1-9]|1[0-2])-([0-2][0-9]|^3[0-1])', t).end())\n",
    "print(re.match('(\\d{4})-(0[1-9]|1[0-2])-([0-2][0-9]|^3[0-1])', t).span())\n",
    "print(re.match('(\\d{4})-(0[1-9]|1[0-2])-([0-2][0-9]|^3[0-1])', t).string)\n",
    "\n"
   ]
  },
  {
   "cell_type": "code",
   "execution_count": 164,
   "metadata": {},
   "outputs": [
    {
     "name": "stdout",
     "output_type": "stream",
     "text": [
      "<re.Match object; span=(2, 3), match='a'>\n"
     ]
    }
   ],
   "source": [
    "print(re.search('a', 'dsafadsfsd'))\n"
   ]
  },
  {
   "cell_type": "code",
   "execution_count": 165,
   "metadata": {},
   "outputs": [
    {
     "name": "stdout",
     "output_type": "stream",
     "text": [
      "['a', 'a']\n"
     ]
    }
   ],
   "source": [
    "print(re.findall('a', 'dsafadsfsd'))"
   ]
  },
  {
   "cell_type": "code",
   "execution_count": 167,
   "metadata": {},
   "outputs": [
    {
     "name": "stdout",
     "output_type": "stream",
     "text": [
      "['', '2023', '12', '24', '']\n",
      "['2023', '12', '24']\n"
     ]
    }
   ],
   "source": [
    "print(re.split('(\\d{4})-(0[1-9]|1[0-2])-([0-2][0-9]|^3[0-1])', t))\n",
    "print(re.split('-', t))"
   ]
  },
  {
   "cell_type": "code",
   "execution_count": 169,
   "metadata": {},
   "outputs": [
    {
     "name": "stdout",
     "output_type": "stream",
     "text": [
      "2023/12/24\n",
      "2023/12-24\n"
     ]
    }
   ],
   "source": [
    "print(re.sub('-','/', t))\n",
    "print(re.sub('-','/', t, count=1))\n"
   ]
  },
  {
   "cell_type": "code",
   "execution_count": 145,
   "metadata": {},
   "outputs": [
    {
     "name": "stdout",
     "output_type": "stream",
     "text": [
      "<re.Match object; span=(0, 29), match='<title>this is python</title>'>\n",
      "<title>this is python</title>\n",
      "this is python\n",
      "<re.Match object; span=(0, 29), match='<title>this is python</title>'>\n",
      "<title>this is python</title>\n",
      "title\n",
      "======================\n",
      "<title>this is python</title>\n",
      "title\n"
     ]
    }
   ],
   "source": [
    "con = '''<title>this is python</title>'''\n",
    "print(re.match('<title>([\\w\\W]*)</title>', con))\n",
    "print(re.match('<title>([\\w\\W]*)</title>', con).group())\n",
    "print(re.match('<title>([\\w\\W]*)</title>', con).group(1))\n",
    "\n",
    "print(re.match('<(\\w+)>([\\w\\W]*)</(\\w+)>', con))\n",
    "print(re.match('<(\\w+)>([\\w\\W]*)</(\\w+)>', con).group())\n",
    "\n",
    "print(re.match(r'<(\\w+)>([\\w\\W]*)</(\\1)>', con).group(1))\n",
    "\n",
    "print('======================')\n",
    "\n",
    "# alias\n",
    "print(re.match(r'<(?P<name1>\\w+)>([\\w\\W]*)</(?P=name1)>', con).group())\n",
    "print(re.match(r'<(?P<name1>\\w+)>([\\w\\W]*)</(?P=name1)>', con).group('name1'))"
   ]
  },
  {
   "cell_type": "code",
   "execution_count": 153,
   "metadata": {},
   "outputs": [
    {
     "name": "stdout",
     "output_type": "stream",
     "text": [
      "<re.Match object; span=(0, 29), match='<title>this is python</title>'>\n",
      "<re.Match object; span=(0, 2), match='aa'>\n"
     ]
    }
   ],
   "source": [
    "content = '''<title>this is python</title>'''\n",
    "\n",
    "# compile(pattern, flags=0)\n",
    "\n",
    "res = re.compile(r'<title>([\\w\\W]*)</title>')\n",
    "\n",
    "print(res.match(content))\n",
    "\n",
    "\n",
    "res1 = re.compile(r'Aa', flags=re.I) # re.I case insensitive\n",
    "print(res1.match('aa'))"
   ]
  },
  {
   "cell_type": "code",
   "execution_count": 114,
   "metadata": {},
   "outputs": [
    {
     "data": {
      "text/plain": [
       "<re.Match object; span=(13, 25), match='415-555-4242'>"
      ]
     },
     "execution_count": 114,
     "metadata": {},
     "output_type": "execute_result"
    }
   ],
   "source": [
    "phone_num_regex = re.compile(r'\\d\\d\\d-\\d\\d\\d-\\d\\d\\d\\d')\n",
    "mo = phone_num_regex.search('My number is 415-555-4242.')\n",
    "mo"
   ]
  },
  {
   "cell_type": "code",
   "execution_count": 115,
   "metadata": {},
   "outputs": [
    {
     "name": "stdout",
     "output_type": "stream",
     "text": [
      "Phone number found: 415-555-4242\n"
     ]
    }
   ],
   "source": [
    "print(f'Phone number found: {mo.group()}')"
   ]
  },
  {
   "cell_type": "code",
   "execution_count": 128,
   "metadata": {},
   "outputs": [
    {
     "name": "stdout",
     "output_type": "stream",
     "text": [
      "415-555-4242\n",
      "415\n",
      "555\n",
      "4242\n",
      "415-555-4242\n"
     ]
    }
   ],
   "source": [
    "# Grouping with parentheses\n",
    "phone_num_regex = re.compile(r'(\\d\\d\\d)-(\\d\\d\\d)-(\\d\\d\\d\\d)')\n",
    "mo = phone_num_regex.search('My number is 415-555-4242.')\n",
    "\n",
    "print(mo.group())\n",
    "print(mo.group(1))\n",
    "print(mo.group(2))\n",
    "print(mo.group(3))\n",
    "print(mo.group(0))\n"
   ]
  },
  {
   "cell_type": "code",
   "execution_count": 150,
   "metadata": {},
   "outputs": [
    {
     "name": "stdout",
     "output_type": "stream",
     "text": [
      "('415', '555-4242')\n",
      "415\n",
      "555-4242\n"
     ]
    }
   ],
   "source": [
    "phone_num_regex = re.compile(r'(\\d\\d\\d)-(\\d\\d\\d-\\d\\d\\d\\d)')\n",
    "mo = phone_num_regex.search('My number is 415-555-4242.')\n",
    "\n",
    "print(mo.groups())\n",
    "\n",
    "area_code, main_number = mo.groups()\n",
    "print(area_code)\n",
    "print(main_number)"
   ]
  },
  {
   "cell_type": "code",
   "execution_count": 155,
   "metadata": {},
   "outputs": [
    {
     "data": {
      "text/plain": [
       "()"
      ]
     },
     "execution_count": 155,
     "metadata": {},
     "output_type": "execute_result"
    }
   ],
   "source": [
    "hero_regex = re.compile (r'Batman|Tina Fey')\n",
    "\n",
    "mo1 = hero_regex.search('Batman and Tina Fey.')\n",
    "mo1.groups()"
   ]
  },
  {
   "cell_type": "code",
   "execution_count": 1,
   "metadata": {},
   "outputs": [
    {
     "name": "stdout",
     "output_type": "stream",
     "text": [
      "你输入的信息是有效的!\n"
     ]
    }
   ],
   "source": [
    "\"\"\"\n",
    "验证输入用户名和QQ号是否有效并给出对应的提示信息\n",
    "\n",
    "要求：用户名必须由字母、数字或下划线构成且长度在6~20个字符之间，QQ号是5~12的数字且首位不能为0\n",
    "\"\"\"\n",
    "import re\n",
    "\n",
    "\n",
    "def main():\n",
    "    username = input('请输入用户名: ')\n",
    "    qq = input('请输入QQ号: ')\n",
    "    # match函数的第一个参数是正则表达式字符串或正则表达式对象\n",
    "    # 第二个参数是要跟正则表达式做匹配的字符串对象\n",
    "    m1 = re.match(r'^[0-9a-zA-Z_]{6,20}$', username)\n",
    "    if not m1:\n",
    "        print('请输入有效的用户名.')\n",
    "    m2 = re.match(r'^[1-9]\\d{4,11}$', qq)\n",
    "    if not m2:\n",
    "        print('请输入有效的QQ号.')\n",
    "    if m1 and m2:\n",
    "        print('你输入的信息是有效的!')\n",
    "\n",
    "\n",
    "if __name__ == '__main__':\n",
    "    main()"
   ]
  },
  {
   "cell_type": "code",
   "execution_count": null,
   "metadata": {},
   "outputs": [],
   "source": []
  }
 ],
 "metadata": {
  "kernelspec": {
   "display_name": "Python 3",
   "language": "python",
   "name": "python3"
  },
  "language_info": {
   "codemirror_mode": {
    "name": "ipython",
    "version": 3
   },
   "file_extension": ".py",
   "mimetype": "text/x-python",
   "name": "python",
   "nbconvert_exporter": "python",
   "pygments_lexer": "ipython3",
   "version": "3.11.0"
  },
  "orig_nbformat": 4
 },
 "nbformat": 4,
 "nbformat_minor": 2
}
