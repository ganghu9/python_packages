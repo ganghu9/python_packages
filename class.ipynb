{
 "cells": [
  {
   "attachments": {},
   "cell_type": "markdown",
   "metadata": {},
   "source": [
    "## Object-oriented programming\n",
    "\n",
    "features + functions"
   ]
  },
  {
   "cell_type": "code",
   "execution_count": 1,
   "metadata": {},
   "outputs": [],
   "source": [
    "class Turtle:\n",
    "    # features\n",
    "    head = 1\n",
    "    eyes = 2\n",
    "    legs = 4\n",
    "    shell = True\n",
    "\n",
    "    # functions\n",
    "    def crawl(self):\n",
    "        print(\"I'm crawling\")\n",
    "\n",
    "    def run(self):\n",
    "        print(\"I'm running\")\n",
    "    \n",
    "    def bite(self):\n",
    "        print(\"I'm biting\")\n",
    "\n",
    "    def eat(self):\n",
    "        print(\"I'm eating\")\n",
    "\n",
    "    def sleep(self):\n",
    "        print(\"I'm sleeping\")\n",
    "\n"
   ]
  },
  {
   "cell_type": "code",
   "execution_count": 3,
   "metadata": {},
   "outputs": [
    {
     "data": {
      "text/plain": [
       "1"
      ]
     },
     "execution_count": 3,
     "metadata": {},
     "output_type": "execute_result"
    }
   ],
   "source": [
    "t1 = Turtle()\n",
    "\n",
    "t1.head"
   ]
  },
  {
   "cell_type": "code",
   "execution_count": 4,
   "metadata": {},
   "outputs": [
    {
     "name": "stdout",
     "output_type": "stream",
     "text": [
      "I'm crawling\n"
     ]
    }
   ],
   "source": [
    "t1.crawl()"
   ]
  },
  {
   "cell_type": "code",
   "execution_count": 5,
   "metadata": {},
   "outputs": [
    {
     "name": "stdout",
     "output_type": "stream",
     "text": [
      "I'm sleeping\n"
     ]
    }
   ],
   "source": [
    "t1.sleep()"
   ]
  },
  {
   "cell_type": "code",
   "execution_count": 7,
   "metadata": {},
   "outputs": [
    {
     "data": {
      "text/plain": [
       "1"
      ]
     },
     "execution_count": 7,
     "metadata": {},
     "output_type": "execute_result"
    }
   ],
   "source": [
    "t2 = Turtle()\n",
    "\n",
    "t2.head"
   ]
  },
  {
   "cell_type": "code",
   "execution_count": 8,
   "metadata": {},
   "outputs": [
    {
     "name": "stdout",
     "output_type": "stream",
     "text": [
      "I'm biting\n"
     ]
    }
   ],
   "source": [
    "t2.bite()"
   ]
  },
  {
   "cell_type": "code",
   "execution_count": 9,
   "metadata": {},
   "outputs": [
    {
     "data": {
      "text/plain": [
       "3"
      ]
     },
     "execution_count": 9,
     "metadata": {},
     "output_type": "execute_result"
    }
   ],
   "source": [
    "t2.legs = 3\n",
    "t2.legs"
   ]
  },
  {
   "cell_type": "code",
   "execution_count": 10,
   "metadata": {},
   "outputs": [
    {
     "data": {
      "text/plain": [
       "1"
      ]
     },
     "execution_count": 10,
     "metadata": {},
     "output_type": "execute_result"
    }
   ],
   "source": [
    "t1.mouth = 1\n",
    "t1.mouth"
   ]
  },
  {
   "cell_type": "code",
   "execution_count": 11,
   "metadata": {},
   "outputs": [
    {
     "data": {
      "text/plain": [
       "['__class__',\n",
       " '__delattr__',\n",
       " '__dict__',\n",
       " '__dir__',\n",
       " '__doc__',\n",
       " '__eq__',\n",
       " '__format__',\n",
       " '__ge__',\n",
       " '__getattribute__',\n",
       " '__getstate__',\n",
       " '__gt__',\n",
       " '__hash__',\n",
       " '__init__',\n",
       " '__init_subclass__',\n",
       " '__le__',\n",
       " '__lt__',\n",
       " '__module__',\n",
       " '__ne__',\n",
       " '__new__',\n",
       " '__reduce__',\n",
       " '__reduce_ex__',\n",
       " '__repr__',\n",
       " '__setattr__',\n",
       " '__sizeof__',\n",
       " '__str__',\n",
       " '__subclasshook__',\n",
       " '__weakref__',\n",
       " 'bite',\n",
       " 'crawl',\n",
       " 'eat',\n",
       " 'eyes',\n",
       " 'head',\n",
       " 'legs',\n",
       " 'mouth',\n",
       " 'run',\n",
       " 'shell',\n",
       " 'sleep']"
      ]
     },
     "execution_count": 11,
     "metadata": {},
     "output_type": "execute_result"
    }
   ],
   "source": [
    "dir(t1)"
   ]
  },
  {
   "cell_type": "code",
   "execution_count": 12,
   "metadata": {},
   "outputs": [
    {
     "data": {
      "text/plain": [
       "['__class__',\n",
       " '__delattr__',\n",
       " '__dict__',\n",
       " '__dir__',\n",
       " '__doc__',\n",
       " '__eq__',\n",
       " '__format__',\n",
       " '__ge__',\n",
       " '__getattribute__',\n",
       " '__getstate__',\n",
       " '__gt__',\n",
       " '__hash__',\n",
       " '__init__',\n",
       " '__init_subclass__',\n",
       " '__le__',\n",
       " '__lt__',\n",
       " '__module__',\n",
       " '__ne__',\n",
       " '__new__',\n",
       " '__reduce__',\n",
       " '__reduce_ex__',\n",
       " '__repr__',\n",
       " '__setattr__',\n",
       " '__sizeof__',\n",
       " '__str__',\n",
       " '__subclasshook__',\n",
       " '__weakref__',\n",
       " 'bite',\n",
       " 'crawl',\n",
       " 'eat',\n",
       " 'eyes',\n",
       " 'head',\n",
       " 'legs',\n",
       " 'run',\n",
       " 'shell',\n",
       " 'sleep']"
      ]
     },
     "execution_count": 12,
     "metadata": {},
     "output_type": "execute_result"
    }
   ],
   "source": [
    "dir(t2)"
   ]
  },
  {
   "cell_type": "code",
   "execution_count": 13,
   "metadata": {},
   "outputs": [],
   "source": [
    "class C:\n",
    "    # if you create a function without self\n",
    "    def hello():\n",
    "        print(\"Hello\")\n"
   ]
  },
  {
   "cell_type": "code",
   "execution_count": 15,
   "metadata": {},
   "outputs": [
    {
     "ename": "TypeError",
     "evalue": "C.hello() takes 0 positional arguments but 1 was given",
     "output_type": "error",
     "traceback": [
      "\u001b[1;31m---------------------------------------------------------------------------\u001b[0m",
      "\u001b[1;31mTypeError\u001b[0m                                 Traceback (most recent call last)",
      "Cell \u001b[1;32mIn[15], line 2\u001b[0m\n\u001b[0;32m      1\u001b[0m c \u001b[39m=\u001b[39m C()\n\u001b[1;32m----> 2\u001b[0m c\u001b[39m.\u001b[39;49mhello()\n",
      "\u001b[1;31mTypeError\u001b[0m: C.hello() takes 0 positional arguments but 1 was given"
     ]
    }
   ],
   "source": [
    "c = C()\n",
    "c.hello()"
   ]
  },
  {
   "cell_type": "code",
   "execution_count": 23,
   "metadata": {},
   "outputs": [],
   "source": [
    "class C:\n",
    "    def get_self(self):\n",
    "        print(self)"
   ]
  },
  {
   "cell_type": "code",
   "execution_count": 29,
   "metadata": {},
   "outputs": [
    {
     "name": "stdout",
     "output_type": "stream",
     "text": [
      "<__main__.C object at 0x000002911787FF10>\n"
     ]
    }
   ],
   "source": [
    "c = C()\n",
    "c.get_self()\n"
   ]
  },
  {
   "cell_type": "code",
   "execution_count": 30,
   "metadata": {},
   "outputs": [
    {
     "data": {
      "text/plain": [
       "<__main__.C at 0x2911787ff10>"
      ]
     },
     "execution_count": 30,
     "metadata": {},
     "output_type": "execute_result"
    }
   ],
   "source": [
    "c"
   ]
  },
  {
   "attachments": {},
   "cell_type": "markdown",
   "metadata": {},
   "source": [
    "## Inheritance"
   ]
  },
  {
   "cell_type": "code",
   "execution_count": 1,
   "metadata": {},
   "outputs": [],
   "source": [
    "class A:\n",
    "    x = 520\n",
    "    def hello(self):\n",
    "        print(\"Hello, I am A\")"
   ]
  },
  {
   "cell_type": "code",
   "execution_count": 33,
   "metadata": {},
   "outputs": [],
   "source": [
    "class B(A):\n",
    "    pass"
   ]
  },
  {
   "cell_type": "code",
   "execution_count": 34,
   "metadata": {},
   "outputs": [
    {
     "data": {
      "text/plain": [
       "520"
      ]
     },
     "execution_count": 34,
     "metadata": {},
     "output_type": "execute_result"
    }
   ],
   "source": [
    "b = B()\n",
    "b.x"
   ]
  },
  {
   "cell_type": "code",
   "execution_count": 35,
   "metadata": {},
   "outputs": [
    {
     "name": "stdout",
     "output_type": "stream",
     "text": [
      "Hello, I am A\n"
     ]
    }
   ],
   "source": [
    "b.hello()"
   ]
  },
  {
   "cell_type": "code",
   "execution_count": 36,
   "metadata": {},
   "outputs": [],
   "source": [
    "class B(A):\n",
    "    x = 237\n",
    "    def hello(self):\n",
    "        print(\"Hello, I am B\")"
   ]
  },
  {
   "cell_type": "code",
   "execution_count": 37,
   "metadata": {},
   "outputs": [
    {
     "data": {
      "text/plain": [
       "237"
      ]
     },
     "execution_count": 37,
     "metadata": {},
     "output_type": "execute_result"
    }
   ],
   "source": [
    "b = B()\n",
    "b.x"
   ]
  },
  {
   "cell_type": "code",
   "execution_count": 38,
   "metadata": {},
   "outputs": [
    {
     "name": "stdout",
     "output_type": "stream",
     "text": [
      "Hello, I am B\n"
     ]
    }
   ],
   "source": [
    "b.hello()"
   ]
  },
  {
   "cell_type": "code",
   "execution_count": 39,
   "metadata": {},
   "outputs": [
    {
     "data": {
      "text/plain": [
       "True"
      ]
     },
     "execution_count": 39,
     "metadata": {},
     "output_type": "execute_result"
    }
   ],
   "source": [
    "# Return whether an object is an instance of a class or of a subclass thereof\n",
    "isinstance(b, B)"
   ]
  },
  {
   "cell_type": "code",
   "execution_count": 40,
   "metadata": {},
   "outputs": [
    {
     "data": {
      "text/plain": [
       "True"
      ]
     },
     "execution_count": 40,
     "metadata": {},
     "output_type": "execute_result"
    }
   ],
   "source": [
    "isinstance(b, A)"
   ]
  },
  {
   "cell_type": "code",
   "execution_count": 41,
   "metadata": {},
   "outputs": [
    {
     "data": {
      "text/plain": [
       "False"
      ]
     },
     "execution_count": 41,
     "metadata": {},
     "output_type": "execute_result"
    }
   ],
   "source": [
    "isinstance(B, A)"
   ]
  },
  {
   "cell_type": "code",
   "execution_count": 42,
   "metadata": {},
   "outputs": [
    {
     "data": {
      "text/plain": [
       "True"
      ]
     },
     "execution_count": 42,
     "metadata": {},
     "output_type": "execute_result"
    }
   ],
   "source": [
    "# Return whether 'cls' is derived from another class or is the same class.\n",
    "issubclass(B, A)"
   ]
  },
  {
   "attachments": {},
   "cell_type": "markdown",
   "metadata": {},
   "source": [
    "## inherit from multiple parent classes"
   ]
  },
  {
   "cell_type": "code",
   "execution_count": 2,
   "metadata": {},
   "outputs": [],
   "source": [
    "class B:\n",
    "    x = 880\n",
    "    y = 250\n",
    "    def hello(self):\n",
    "        print(\"hello, I am B\")\n"
   ]
  },
  {
   "cell_type": "code",
   "execution_count": 3,
   "metadata": {},
   "outputs": [],
   "source": [
    "# class C inherits from class A and B, it will access all the information from class A and B\n",
    "# in words, it will access all the features and functions from left to right until i find it\n",
    "class C(A, B):\n",
    "    pass"
   ]
  },
  {
   "cell_type": "code",
   "execution_count": 4,
   "metadata": {},
   "outputs": [
    {
     "data": {
      "text/plain": [
       "520"
      ]
     },
     "execution_count": 4,
     "metadata": {},
     "output_type": "execute_result"
    }
   ],
   "source": [
    "c = C()\n",
    "c.x"
   ]
  },
  {
   "cell_type": "code",
   "execution_count": 5,
   "metadata": {},
   "outputs": [
    {
     "name": "stdout",
     "output_type": "stream",
     "text": [
      "Hello, I am A\n"
     ]
    }
   ],
   "source": [
    "c.hello()"
   ]
  },
  {
   "cell_type": "code",
   "execution_count": 6,
   "metadata": {},
   "outputs": [
    {
     "data": {
      "text/plain": [
       "250"
      ]
     },
     "execution_count": 6,
     "metadata": {},
     "output_type": "execute_result"
    }
   ],
   "source": [
    "c.y"
   ]
  },
  {
   "attachments": {},
   "cell_type": "markdown",
   "metadata": {},
   "source": [
    "## Combinations"
   ]
  },
  {
   "cell_type": "code",
   "execution_count": 7,
   "metadata": {},
   "outputs": [],
   "source": [
    "class Turtle:\n",
    "    def say(self):\n",
    "        print(\"I'm a turtle\")\n",
    "\n",
    "class Cat:\n",
    "    def say(self):\n",
    "        print(\"I'm a cat\")\n",
    "\n",
    "class Dog:\n",
    "    def say(self):\n",
    "        print(\"I'm a dog\")\n",
    "\n",
    "# Combination\n",
    "# There is a garden has a lot of animals including turtle, cat, dog\n",
    "class Garden:\n",
    "    t = Turtle()\n",
    "    c = Cat()\n",
    "    d = Dog()\n",
    "\n",
    "    def say(self):\n",
    "        self.t.say()\n",
    "        self.c.say()\n",
    "        self.d.say()"
   ]
  },
  {
   "cell_type": "code",
   "execution_count": 8,
   "metadata": {},
   "outputs": [
    {
     "name": "stdout",
     "output_type": "stream",
     "text": [
      "I'm a turtle\n",
      "I'm a cat\n",
      "I'm a dog\n"
     ]
    }
   ],
   "source": [
    "g = Garden()\n",
    "g.say()"
   ]
  },
  {
   "cell_type": "code",
   "execution_count": 10,
   "metadata": {},
   "outputs": [
    {
     "data": {
      "text/plain": [
       "mappingproxy({'__module__': '__main__',\n",
       "              '__dict__': <attribute '__dict__' of 'O' objects>,\n",
       "              '__weakref__': <attribute '__weakref__' of 'O' objects>,\n",
       "              '__doc__': None,\n",
       "              'x': 250,\n",
       "              'y': [1, 2, 3],\n",
       "              'z': 'sadas'})"
      ]
     },
     "execution_count": 10,
     "metadata": {},
     "output_type": "execute_result"
    }
   ],
   "source": [
    "# empty class\n",
    "class O:\n",
    "    pass\n",
    "\n",
    "O.x = 250\n",
    "O.y = [1, 2, 3]\n",
    "O.z = 'sadas'\n",
    "\n",
    "O.__dict__"
   ]
  },
  {
   "attachments": {},
   "cell_type": "markdown",
   "metadata": {},
   "source": [
    "## constructor"
   ]
  },
  {
   "cell_type": "code",
   "execution_count": 34,
   "metadata": {},
   "outputs": [],
   "source": [
    "class C:\n",
    "    def __init__(self, *args):\n",
    "        self.args = args\n",
    "        self.sum = 0\n",
    "        self.pro = 1\n",
    "\n",
    "    def add(self):\n",
    "        for i in self.args:\n",
    "            self.sum += i\n",
    "        return self.sum\n",
    "    \n",
    "    def mul(self):\n",
    "        for i in self.args:\n",
    "            self.pro *= i\n",
    "        return self.pro\n"
   ]
  },
  {
   "cell_type": "code",
   "execution_count": 35,
   "metadata": {},
   "outputs": [
    {
     "data": {
      "text/plain": [
       "18"
      ]
     },
     "execution_count": 35,
     "metadata": {},
     "output_type": "execute_result"
    }
   ],
   "source": [
    "c = C(5, 6, 7)\n",
    "c.add()"
   ]
  },
  {
   "cell_type": "code",
   "execution_count": 36,
   "metadata": {},
   "outputs": [
    {
     "data": {
      "text/plain": [
       "210"
      ]
     },
     "execution_count": 36,
     "metadata": {},
     "output_type": "execute_result"
    }
   ],
   "source": [
    "c.mul()"
   ]
  },
  {
   "cell_type": "code",
   "execution_count": 37,
   "metadata": {},
   "outputs": [
    {
     "data": {
      "text/plain": [
       "{'args': (5, 6, 7), 'sum': 18, 'pro': 210}"
      ]
     },
     "execution_count": 37,
     "metadata": {},
     "output_type": "execute_result"
    }
   ],
   "source": [
    "c.__dict__"
   ]
  },
  {
   "cell_type": "code",
   "execution_count": 40,
   "metadata": {},
   "outputs": [],
   "source": [
    "class D(C):\n",
    "    def __init__(self, x, y ,z):\n",
    "        # equal to self.x = x, self.y = y\n",
    "        C.__init__(self, x, y)\n",
    "        self.z = z\n",
    "\n",
    "    def add(self):\n",
    "        return C.add(self) + self.z\n",
    "    \n",
    "    def mul(self):\n",
    "        return C.mul(self) * self.z"
   ]
  },
  {
   "cell_type": "code",
   "execution_count": 42,
   "metadata": {},
   "outputs": [
    {
     "data": {
      "text/plain": [
       "9"
      ]
     },
     "execution_count": 42,
     "metadata": {},
     "output_type": "execute_result"
    }
   ],
   "source": [
    "d = D(2, 3, 4)\n",
    "d.add()"
   ]
  },
  {
   "cell_type": "code",
   "execution_count": 43,
   "metadata": {},
   "outputs": [
    {
     "data": {
      "text/plain": [
       "24"
      ]
     },
     "execution_count": 43,
     "metadata": {},
     "output_type": "execute_result"
    }
   ],
   "source": [
    "d.mul()"
   ]
  },
  {
   "attachments": {},
   "cell_type": "markdown",
   "metadata": {},
   "source": [
    "##"
   ]
  },
  {
   "cell_type": "code",
   "execution_count": 44,
   "metadata": {},
   "outputs": [],
   "source": [
    "class A:\n",
    "    def __init__(self):\n",
    "        print('Hello, I am A')\n",
    "\n",
    "class B1(A):\n",
    "    def __init__(self):\n",
    "        A.__init__(self)\n",
    "        print('Hello, I am B1')\n",
    "\n",
    "class B2(A):\n",
    "    def __init__(self):\n",
    "        A.__init__(self)\n",
    "        print('Hello, I am B2')\n",
    "\n",
    "class C(B1, B2):\n",
    "    def __init__(self):\n",
    "        B1.__init__(self)\n",
    "        B2.__init__(self)\n",
    "        print('Hello, I am C')\n"
   ]
  },
  {
   "cell_type": "code",
   "execution_count": 45,
   "metadata": {},
   "outputs": [
    {
     "name": "stdout",
     "output_type": "stream",
     "text": [
      "Hello, I am A\n",
      "Hello, I am B1\n",
      "Hello, I am A\n",
      "Hello, I am B2\n",
      "Hello, I am C\n"
     ]
    }
   ],
   "source": [
    "c = C()"
   ]
  },
  {
   "attachments": {},
   "cell_type": "markdown",
   "metadata": {},
   "source": [
    "#### we call A twice\n",
    "\n",
    "how to fix it?"
   ]
  },
  {
   "cell_type": "code",
   "execution_count": 57,
   "metadata": {},
   "outputs": [],
   "source": [
    "class A:\n",
    "    def __init__(self):\n",
    "        print('Hello, I am A')\n",
    "\n",
    "class B1(A):\n",
    "    def __init__(self):\n",
    "        super().__init__()\n",
    "        print('Hello, I am B1')\n",
    "\n",
    "class B2(A):\n",
    "    def __init__(self):\n",
    "        super().__init__()\n",
    "        print('Hello, I am B2')\n",
    "\n",
    "class C(B1, B2):\n",
    "    def __init__(self):\n",
    "        super().__init__()\n",
    "        print('Hello, I am C')\n"
   ]
  },
  {
   "attachments": {},
   "cell_type": "markdown",
   "metadata": {},
   "source": [
    "#### obey the MRO rules stands for Method Resolution order"
   ]
  },
  {
   "cell_type": "code",
   "execution_count": 58,
   "metadata": {},
   "outputs": [
    {
     "name": "stdout",
     "output_type": "stream",
     "text": [
      "Hello, I am A\n",
      "Hello, I am B2\n",
      "Hello, I am B1\n",
      "Hello, I am C\n"
     ]
    }
   ],
   "source": [
    "c = C()"
   ]
  },
  {
   "cell_type": "code",
   "execution_count": 48,
   "metadata": {},
   "outputs": [
    {
     "data": {
      "text/plain": [
       "[__main__.C, __main__.B1, __main__.B2, __main__.A, object]"
      ]
     },
     "execution_count": 48,
     "metadata": {},
     "output_type": "execute_result"
    }
   ],
   "source": [
    "C.mro()"
   ]
  },
  {
   "cell_type": "code",
   "execution_count": 49,
   "metadata": {},
   "outputs": [
    {
     "data": {
      "text/plain": [
       "[__main__.B1, __main__.A, object]"
      ]
     },
     "execution_count": 49,
     "metadata": {},
     "output_type": "execute_result"
    }
   ],
   "source": [
    "B1.mro()"
   ]
  },
  {
   "cell_type": "code",
   "execution_count": 50,
   "metadata": {},
   "outputs": [
    {
     "data": {
      "text/plain": [
       "(__main__.C, __main__.B1, __main__.B2, __main__.A, object)"
      ]
     },
     "execution_count": 50,
     "metadata": {},
     "output_type": "execute_result"
    }
   ],
   "source": [
    "C.__mro__ "
   ]
  },
  {
   "cell_type": "code",
   "execution_count": 52,
   "metadata": {},
   "outputs": [
    {
     "data": {
      "text/plain": [
       "(__main__.B2, __main__.A, object)"
      ]
     },
     "execution_count": 52,
     "metadata": {},
     "output_type": "execute_result"
    }
   ],
   "source": [
    "B2.__mro__"
   ]
  },
  {
   "attachments": {},
   "cell_type": "markdown",
   "metadata": {},
   "source": [
    "## Mix-in"
   ]
  },
  {
   "cell_type": "code",
   "execution_count": 60,
   "metadata": {},
   "outputs": [
    {
     "name": "stdout",
     "output_type": "stream",
     "text": [
      "My name is Lucy, I'm 3 years old\n",
      "I can eat everything\n",
      "I can fly\n"
     ]
    }
   ],
   "source": [
    "class Animal:\n",
    "    def __init__(self, name, age):\n",
    "        self.name = name\n",
    "        self.age = age\n",
    "    \n",
    "    def say(self):\n",
    "        print(\"My name is %s, I'm %d years old\" % (self.name, self.age))\n",
    "    \n",
    "class Flymixin:\n",
    "    def fly(self):\n",
    "        print(\"I can fly\")\n",
    "\n",
    "\n",
    "class Pig(Animal, Flymixin):\n",
    "    def special(self):\n",
    "        print(\"I can eat everything\")\n",
    "\n",
    "p = Pig('Lucy', 3)\n",
    "p.say()\n",
    "p.special()\n",
    "p.fly()"
   ]
  },
  {
   "cell_type": "code",
   "execution_count": 61,
   "metadata": {},
   "outputs": [
    {
     "name": "stdout",
     "output_type": "stream",
     "text": [
      "This string will be shown and logged in subclasslog.txt\n"
     ]
    }
   ],
   "source": [
    "class Displayer:\n",
    "    def display(self, message):\n",
    "        print(message)\n",
    "\n",
    "class LoggerMixin:\n",
    "    def log(self, message, filename='logfile.txt'):\n",
    "        with open(filename, 'a') as f:\n",
    "            f.write(message)\n",
    "\n",
    "    def display(self, message):\n",
    "        super().display(message)\n",
    "        self.log(message)\n",
    "\n",
    "class MysubClass(LoggerMixin, Displayer):\n",
    "    def log(self, message):\n",
    "        super().log(message, filename='subclasslog.txt')\n",
    "\n",
    "subclass = MysubClass()\n",
    "subclass.display('This string will be shown and logged in subclasslog.txt')"
   ]
  },
  {
   "cell_type": "code",
   "execution_count": 62,
   "metadata": {},
   "outputs": [
    {
     "data": {
      "text/plain": [
       "(__main__.MysubClass, __main__.LoggerMixin, __main__.Displayer, object)"
      ]
     },
     "execution_count": 62,
     "metadata": {},
     "output_type": "execute_result"
    }
   ],
   "source": [
    "MysubClass.__mro__"
   ]
  },
  {
   "attachments": {},
   "cell_type": "markdown",
   "metadata": {},
   "source": [
    "## Polymorphism"
   ]
  },
  {
   "cell_type": "code",
   "execution_count": 68,
   "metadata": {},
   "outputs": [],
   "source": [
    "import math\n",
    "\n",
    "\n",
    "class Shape:\n",
    "    def __init__(self, name):\n",
    "        self.name = name\n",
    "\n",
    "    def area(self):\n",
    "        pass\n",
    "\n",
    "class Square(Shape):\n",
    "    def __init__(self, length):\n",
    "        super().__init__('square')\n",
    "        self.length = length\n",
    "\n",
    "    def area(self):\n",
    "        return self.length ** 2\n",
    "    \n",
    "class Circle(Shape):\n",
    "    def __init__(self, radius):\n",
    "        super().__init__('circle')\n",
    "        self.radius = radius\n",
    "\n",
    "    def area(self):\n",
    "        return self.radius ** 2 * math.pi\n",
    "    \n",
    "class Triangle(Shape):\n",
    "    def __init__(self, base, height):\n",
    "        super().__init__('Triangle')\n",
    "        self.base = base\n",
    "        self.height = height\n",
    "\n",
    "    def area(self):\n",
    "        return self.base * self.height / 2\n",
    "    \n",
    "\n",
    "s = Square(5)\n",
    "c = Circle(6)\n",
    "t = Triangle(4, 6)"
   ]
  },
  {
   "cell_type": "code",
   "execution_count": 69,
   "metadata": {},
   "outputs": [
    {
     "name": "stdout",
     "output_type": "stream",
     "text": [
      "square\n",
      "circle\n",
      "Triangle\n"
     ]
    }
   ],
   "source": [
    "print(s.name)\n",
    "print(c.name)\n",
    "print(t.name)"
   ]
  },
  {
   "cell_type": "code",
   "execution_count": 70,
   "metadata": {},
   "outputs": [
    {
     "name": "stdout",
     "output_type": "stream",
     "text": [
      "25\n",
      "113.09733552923255\n",
      "12.0\n"
     ]
    }
   ],
   "source": [
    "print(s.area())\n",
    "print(c.area())\n",
    "print(t.area())"
   ]
  },
  {
   "cell_type": "code",
   "execution_count": null,
   "metadata": {},
   "outputs": [],
   "source": []
  },
  {
   "cell_type": "code",
   "execution_count": 73,
   "metadata": {},
   "outputs": [],
   "source": [
    "class Cat:\n",
    "    def __init__(self, name, age):\n",
    "        self.name = name\n",
    "        self.age = age\n",
    "\n",
    "    def intro(self):\n",
    "        print(\"My name is %s, I'm %d years old\" % (self.name, self.age))\n",
    "\n",
    "    def say(self):\n",
    "        print('Miao~')\n",
    "\n",
    "\n",
    "class Dog:\n",
    "    def __init__(self, name, age):\n",
    "        self.name = name\n",
    "        self.age = age\n",
    "\n",
    "    def intro(self):\n",
    "        print(\"My name is %s, I'm %d years old\" % (self.name, self.age))\n",
    "\n",
    "    def say(self):\n",
    "        print('wolf~')\n",
    "\n",
    "\n",
    "class Pig:\n",
    "    def __init__(self, name, age):\n",
    "        self.name = name\n",
    "        self.age = age\n",
    "\n",
    "    def intro(self):\n",
    "        print(\"My name is %s, I'm %d years old\" % (self.name, self.age))\n",
    "\n",
    "    def say(self):\n",
    "        print('oink~')   \n",
    "\n",
    "c = Cat('Lucy', 3)\n",
    "d = Dog('Jack', 2)\n",
    "p = Pig('Tom', 4)\n",
    "\n",
    "def animal(x):\n",
    "    x.intro()\n",
    "    x.say()"
   ]
  },
  {
   "cell_type": "code",
   "execution_count": 78,
   "metadata": {},
   "outputs": [
    {
     "name": "stdout",
     "output_type": "stream",
     "text": [
      "My name is Lucy, I'm 3 years old\n",
      "Miao~\n",
      "My name is Jack, I'm 2 years old\n",
      "wolf~\n",
      "My name is Tom, I'm 4 years old\n",
      "oink~\n"
     ]
    }
   ],
   "source": [
    "animal(c)\n",
    "animal(d)\n",
    "animal(p)"
   ]
  },
  {
   "cell_type": "code",
   "execution_count": null,
   "metadata": {},
   "outputs": [],
   "source": []
  }
 ],
 "metadata": {
  "kernelspec": {
   "display_name": "Python 3",
   "language": "python",
   "name": "python3"
  },
  "language_info": {
   "codemirror_mode": {
    "name": "ipython",
    "version": 3
   },
   "file_extension": ".py",
   "mimetype": "text/x-python",
   "name": "python",
   "nbconvert_exporter": "python",
   "pygments_lexer": "ipython3",
   "version": "3.11.0"
  },
  "orig_nbformat": 4
 },
 "nbformat": 4,
 "nbformat_minor": 2
}
