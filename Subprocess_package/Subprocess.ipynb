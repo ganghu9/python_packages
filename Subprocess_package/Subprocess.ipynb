{
 "cells": [
  {
   "cell_type": "code",
   "execution_count": 9,
   "metadata": {},
   "outputs": [
    {
     "name": "stdout",
     "output_type": "stream",
     "text": [
      "CompletedProcess(args=['ls', '-la'], returncode=0, stdout=b'total 668\\ndrwxrwxr-x+ 1 huyin huyin      0 Jul 12 00:43 .\\ndrwxrwx---+ 1 huyin huyin      0 Jun 23 15:24 ..\\ndrwxrwxr-x+ 1 huyin huyin      0 Jun 29 03:03 .git\\ndrwxrwxr-x+ 1 huyin huyin      0 Jun 11 02:47 .ipynb_checkpoints\\n-rwxrwxr-x+ 1 huyin huyin   1123 Jan 31 16:37 Argparse.py\\n-rwxrwxr-x+ 1 huyin huyin 115504 Jun 16 23:31 Calculus.ipynb\\n-rwxrwxr-x+ 1 huyin huyin   7035 Jul  5 04:09 Lambda.ipynb\\n-rwxrwxr-x+ 1 huyin huyin 145694 May 23 01:34 Matplotlib.ipynb\\ndrwxrwxr-x+ 1 huyin huyin      0 Jun 29 02:44 Numpy_package\\n-rwxrw-r--+ 1 huyin huyin    429 May 20 10:52 README.md\\n-rwxrwxr-x+ 1 huyin huyin   4932 Jul 12 01:24 Subprocess.ipynb\\n-rwxrwxr-x+ 1 huyin huyin    786 Jul 12 00:42 Subprocess.py\\n-rwxrwxr-x+ 1 huyin huyin  27199 Jun 13 00:22 class.ipynb\\n-rwxrwxr-x+ 1 huyin huyin 206393 Jul  5 04:09 closure.ipynb\\n-rwxrwxr-x+ 1 huyin huyin     84 Jun 12 01:02 data.pkl\\n-rwxrwxr-x+ 1 huyin huyin   9471 Jun 12 01:31 error.ipynb\\n-rwxrwxr-x+ 1 huyin huyin  29297 Mar 28 15:16 fraction_of_duplex_and_single_strand.png\\n-rwxrwxr-x+ 1 huyin huyin   6163 Jul  5 04:09 generator.ipynb\\n-rwxrwxr-x+ 1 huyin huyin   1766 Jun 12 01:46 pickle.ipynb\\n-rwxrwxr-x+ 1 huyin huyin  79025 May 23 01:34 string_list_exercise.ipynb\\n-rwxrwxr-x+ 1 huyin huyin     55 Jun 12 22:39 subclasslog.txt\\n-rwxrwxr-x+ 1 huyin huyin      8 May  5 16:23 test.fasta\\n', stderr=b'')\n",
      "['ls', '-la']\n",
      "0\n",
      "b'total 668\\ndrwxrwxr-x+ 1 huyin huyin      0 Jul 12 00:43 .\\ndrwxrwx---+ 1 huyin huyin      0 Jun 23 15:24 ..\\ndrwxrwxr-x+ 1 huyin huyin      0 Jun 29 03:03 .git\\ndrwxrwxr-x+ 1 huyin huyin      0 Jun 11 02:47 .ipynb_checkpoints\\n-rwxrwxr-x+ 1 huyin huyin   1123 Jan 31 16:37 Argparse.py\\n-rwxrwxr-x+ 1 huyin huyin 115504 Jun 16 23:31 Calculus.ipynb\\n-rwxrwxr-x+ 1 huyin huyin   7035 Jul  5 04:09 Lambda.ipynb\\n-rwxrwxr-x+ 1 huyin huyin 145694 May 23 01:34 Matplotlib.ipynb\\ndrwxrwxr-x+ 1 huyin huyin      0 Jun 29 02:44 Numpy_package\\n-rwxrw-r--+ 1 huyin huyin    429 May 20 10:52 README.md\\n-rwxrwxr-x+ 1 huyin huyin   4932 Jul 12 01:24 Subprocess.ipynb\\n-rwxrwxr-x+ 1 huyin huyin    786 Jul 12 00:42 Subprocess.py\\n-rwxrwxr-x+ 1 huyin huyin  27199 Jun 13 00:22 class.ipynb\\n-rwxrwxr-x+ 1 huyin huyin 206393 Jul  5 04:09 closure.ipynb\\n-rwxrwxr-x+ 1 huyin huyin     84 Jun 12 01:02 data.pkl\\n-rwxrwxr-x+ 1 huyin huyin   9471 Jun 12 01:31 error.ipynb\\n-rwxrwxr-x+ 1 huyin huyin  29297 Mar 28 15:16 fraction_of_duplex_and_single_strand.png\\n-rwxrwxr-x+ 1 huyin huyin   6163 Jul  5 04:09 generator.ipynb\\n-rwxrwxr-x+ 1 huyin huyin   1766 Jun 12 01:46 pickle.ipynb\\n-rwxrwxr-x+ 1 huyin huyin  79025 May 23 01:34 string_list_exercise.ipynb\\n-rwxrwxr-x+ 1 huyin huyin     55 Jun 12 22:39 subclasslog.txt\\n-rwxrwxr-x+ 1 huyin huyin      8 May  5 16:23 test.fasta\\n'\n"
     ]
    }
   ],
   "source": [
    "import subprocess\n",
    "\n",
    "\n",
    "# process01 = subprocess.run('ls -la', shell=True)\n",
    "# shell=True is not recommended for security reasons, but it is convenient for windows users\n",
    "'''\n",
    "The shell=True option in the subprocess functions allows you to pass a string to the system shell, which can interpret shell commands like redirection (>, <, >>, <<), pipes (|), and others. When you use shell=True, Python will run your command through the shell directly\n",
    "'''\n",
    "\n",
    "\n",
    "# subprocess.run('ls -la')\n",
    "process02 = subprocess.run(['ls', '-la'], capture_output=True)\n",
    "\n",
    "# print(process01)\n",
    "# print(process01.args)\n",
    "\n",
    "\n",
    "print(process02)\n",
    "print(process02.args) # it will tell you what command you ran\n",
    "\n",
    "# it will tell you if the command ran successfully or not. 0 means success, 1 means failure\n",
    "print(process02.returncode) \n",
    "\n",
    "print(process02.stdout) # it will print out as bytes\n",
    "\n",
    "\n",
    "\n"
   ]
  },
  {
   "cell_type": "code",
   "execution_count": 10,
   "metadata": {},
   "outputs": [
    {
     "name": "stdout",
     "output_type": "stream",
     "text": [
      "total 668\n",
      "drwxrwxr-x+ 1 huyin huyin      0 Jul 12 00:43 .\n",
      "drwxrwx---+ 1 huyin huyin      0 Jun 23 15:24 ..\n",
      "drwxrwxr-x+ 1 huyin huyin      0 Jun 29 03:03 .git\n",
      "drwxrwxr-x+ 1 huyin huyin      0 Jun 11 02:47 .ipynb_checkpoints\n",
      "-rwxrwxr-x+ 1 huyin huyin   1123 Jan 31 16:37 Argparse.py\n",
      "-rwxrwxr-x+ 1 huyin huyin 115504 Jun 16 23:31 Calculus.ipynb\n",
      "-rwxrwxr-x+ 1 huyin huyin   7035 Jul  5 04:09 Lambda.ipynb\n",
      "-rwxrwxr-x+ 1 huyin huyin 145694 May 23 01:34 Matplotlib.ipynb\n",
      "drwxrwxr-x+ 1 huyin huyin      0 Jun 29 02:44 Numpy_package\n",
      "-rwxrw-r--+ 1 huyin huyin    429 May 20 10:52 README.md\n",
      "-rwxrwxr-x+ 1 huyin huyin   4932 Jul 12 01:24 Subprocess.ipynb\n",
      "-rwxrwxr-x+ 1 huyin huyin    786 Jul 12 00:42 Subprocess.py\n",
      "-rwxrwxr-x+ 1 huyin huyin  27199 Jun 13 00:22 class.ipynb\n",
      "-rwxrwxr-x+ 1 huyin huyin 206393 Jul  5 04:09 closure.ipynb\n",
      "-rwxrwxr-x+ 1 huyin huyin     84 Jun 12 01:02 data.pkl\n",
      "-rwxrwxr-x+ 1 huyin huyin   9471 Jun 12 01:31 error.ipynb\n",
      "-rwxrwxr-x+ 1 huyin huyin  29297 Mar 28 15:16 fraction_of_duplex_and_single_strand.png\n",
      "-rwxrwxr-x+ 1 huyin huyin   6163 Jul  5 04:09 generator.ipynb\n",
      "-rwxrwxr-x+ 1 huyin huyin   1766 Jun 12 01:46 pickle.ipynb\n",
      "-rwxrwxr-x+ 1 huyin huyin  79025 May 23 01:34 string_list_exercise.ipynb\n",
      "-rwxrwxr-x+ 1 huyin huyin     55 Jun 12 22:39 subclasslog.txt\n",
      "-rwxrwxr-x+ 1 huyin huyin      8 May  5 16:23 test.fasta\n",
      "\n"
     ]
    }
   ],
   "source": [
    "print(process02.stdout.decode()) # it will decode the bytes and print out as string"
   ]
  },
  {
   "cell_type": "code",
   "execution_count": 12,
   "metadata": {},
   "outputs": [
    {
     "name": "stdout",
     "output_type": "stream",
     "text": [
      "total 668\n",
      "drwxrwxr-x+ 1 huyin huyin      0 Jul 12 00:43 .\n",
      "drwxrwx---+ 1 huyin huyin      0 Jun 23 15:24 ..\n",
      "drwxrwxr-x+ 1 huyin huyin      0 Jun 29 03:03 .git\n",
      "drwxrwxr-x+ 1 huyin huyin      0 Jun 11 02:47 .ipynb_checkpoints\n",
      "-rwxrwxr-x+ 1 huyin huyin   1123 Jan 31 16:37 Argparse.py\n",
      "-rwxrwxr-x+ 1 huyin huyin 115504 Jun 16 23:31 Calculus.ipynb\n",
      "-rwxrwxr-x+ 1 huyin huyin   7035 Jul  5 04:09 Lambda.ipynb\n",
      "-rwxrwxr-x+ 1 huyin huyin 145694 May 23 01:34 Matplotlib.ipynb\n",
      "drwxrwxr-x+ 1 huyin huyin      0 Jun 29 02:44 Numpy_package\n",
      "-rwxrw-r--+ 1 huyin huyin    429 May 20 10:52 README.md\n",
      "-rwxrwxr-x+ 1 huyin huyin   4932 Jul 12 01:24 Subprocess.ipynb\n",
      "-rwxrwxr-x+ 1 huyin huyin    786 Jul 12 00:42 Subprocess.py\n",
      "-rwxrwxr-x+ 1 huyin huyin  27199 Jun 13 00:22 class.ipynb\n",
      "-rwxrwxr-x+ 1 huyin huyin 206393 Jul  5 04:09 closure.ipynb\n",
      "-rwxrwxr-x+ 1 huyin huyin     84 Jun 12 01:02 data.pkl\n",
      "-rwxrwxr-x+ 1 huyin huyin   9471 Jun 12 01:31 error.ipynb\n",
      "-rwxrwxr-x+ 1 huyin huyin  29297 Mar 28 15:16 fraction_of_duplex_and_single_strand.png\n",
      "-rwxrwxr-x+ 1 huyin huyin   6163 Jul  5 04:09 generator.ipynb\n",
      "-rwxrwxr-x+ 1 huyin huyin   1766 Jun 12 01:46 pickle.ipynb\n",
      "-rwxrwxr-x+ 1 huyin huyin  79025 May 23 01:34 string_list_exercise.ipynb\n",
      "-rwxrwxr-x+ 1 huyin huyin     55 Jun 12 22:39 subclasslog.txt\n",
      "-rwxrwxr-x+ 1 huyin huyin      8 May  5 16:23 test.fasta\n",
      "\n"
     ]
    }
   ],
   "source": [
    "process02 = subprocess.run(['ls', '-la'], capture_output=True, text=True)\n",
    "# text=True will print out as string\n",
    "\n",
    "print(process02.stdout) # it will print out as bytes"
   ]
  },
  {
   "cell_type": "code",
   "execution_count": 13,
   "metadata": {},
   "outputs": [
    {
     "name": "stdout",
     "output_type": "stream",
     "text": [
      "total 672\n",
      "drwxrwxr-x+ 1 huyin huyin      0 Jul 12 00:43 .\n",
      "drwxrwx---+ 1 huyin huyin      0 Jun 23 15:24 ..\n",
      "drwxrwxr-x+ 1 huyin huyin      0 Jun 29 03:03 .git\n",
      "drwxrwxr-x+ 1 huyin huyin      0 Jun 11 02:47 .ipynb_checkpoints\n",
      "-rwxrwxr-x+ 1 huyin huyin   1123 Jan 31 16:37 Argparse.py\n",
      "-rwxrwxr-x+ 1 huyin huyin 115504 Jun 16 23:31 Calculus.ipynb\n",
      "-rwxrwxr-x+ 1 huyin huyin   7035 Jul  5 04:09 Lambda.ipynb\n",
      "-rwxrwxr-x+ 1 huyin huyin 145694 May 23 01:34 Matplotlib.ipynb\n",
      "drwxrwxr-x+ 1 huyin huyin      0 Jun 29 02:44 Numpy_package\n",
      "-rwxrw-r--+ 1 huyin huyin    429 May 20 10:52 README.md\n",
      "-rwxrwxr-x+ 1 huyin huyin   8816 Jul 12 01:28 Subprocess.ipynb\n",
      "-rwxrwxr-x+ 1 huyin huyin    786 Jul 12 00:42 Subprocess.py\n",
      "-rwxrwxr-x+ 1 huyin huyin  27199 Jun 13 00:22 class.ipynb\n",
      "-rwxrwxr-x+ 1 huyin huyin 206393 Jul  5 04:09 closure.ipynb\n",
      "-rwxrwxr-x+ 1 huyin huyin     84 Jun 12 01:02 data.pkl\n",
      "-rwxrwxr-x+ 1 huyin huyin   9471 Jun 12 01:31 error.ipynb\n",
      "-rwxrwxr-x+ 1 huyin huyin  29297 Mar 28 15:16 fraction_of_duplex_and_single_strand.png\n",
      "-rwxrwxr-x+ 1 huyin huyin   6163 Jul  5 04:09 generator.ipynb\n",
      "-rwxrwxr-x+ 1 huyin huyin   1766 Jun 12 01:46 pickle.ipynb\n",
      "-rwxrwxr-x+ 1 huyin huyin  79025 May 23 01:34 string_list_exercise.ipynb\n",
      "-rwxrwxr-x+ 1 huyin huyin     55 Jun 12 22:39 subclasslog.txt\n",
      "-rwxrwxr-x+ 1 huyin huyin      8 May  5 16:23 test.fasta\n",
      "\n"
     ]
    }
   ],
   "source": [
    "process02 = subprocess.run(['ls', '-la'], stdout=subprocess.PIPE, text=True)\n",
    "\n",
    "print(process02.stdout) # it will print out as bytes"
   ]
  },
  {
   "cell_type": "code",
   "execution_count": null,
   "metadata": {},
   "outputs": [],
   "source": [
    "with open('output.txt', 'w') as f:\n",
    "    process02 = subprocess.run(['ls', '-la'], stdout=f, text=True)\n",
    "    # it will write the output to the file"
   ]
  },
  {
   "cell_type": "code",
   "execution_count": 34,
   "metadata": {},
   "outputs": [
    {
     "name": "stdout",
     "output_type": "stream",
     "text": [
      "2\n",
      "ls: cannot access 'dne': No such file or directory\n",
      "\n"
     ]
    }
   ],
   "source": [
    "# if we let the command get wrong, it won't raise an error, but it will return a returncode of non zero\n",
    "process02 = subprocess.run(['ls', '-la', 'dne'], capture_output=True, text=True)\n",
    "print(process02.returncode) # it will return a returncode of non zero, which means it failed\n",
    "print(process02.stderr) # it will print out the error message"
   ]
  },
  {
   "cell_type": "code",
   "execution_count": 31,
   "metadata": {},
   "outputs": [
    {
     "ename": "CalledProcessError",
     "evalue": "Command '['ls', '-la', 'dne']' returned non-zero exit status 2.",
     "output_type": "error",
     "traceback": [
      "\u001b[1;31m---------------------------------------------------------------------------\u001b[0m",
      "\u001b[1;31mCalledProcessError\u001b[0m                        Traceback (most recent call last)",
      "\u001b[1;32m~\\AppData\\Local\\Temp\\ipykernel_14396\\1098315617.py\u001b[0m in \u001b[0;36m<module>\u001b[1;34m\u001b[0m\n\u001b[0;32m      1\u001b[0m \u001b[1;31m# if you want python to raise an error when the command fails, you can use check=True\u001b[0m\u001b[1;33m\u001b[0m\u001b[1;33m\u001b[0m\u001b[0m\n\u001b[1;32m----> 2\u001b[1;33m \u001b[0mprocess02\u001b[0m \u001b[1;33m=\u001b[0m \u001b[0msubprocess\u001b[0m\u001b[1;33m.\u001b[0m\u001b[0mrun\u001b[0m\u001b[1;33m(\u001b[0m\u001b[1;33m[\u001b[0m\u001b[1;34m'ls'\u001b[0m\u001b[1;33m,\u001b[0m \u001b[1;34m'-la'\u001b[0m\u001b[1;33m,\u001b[0m \u001b[1;34m'dne'\u001b[0m\u001b[1;33m]\u001b[0m\u001b[1;33m,\u001b[0m \u001b[0mcapture_output\u001b[0m\u001b[1;33m=\u001b[0m\u001b[1;32mTrue\u001b[0m\u001b[1;33m,\u001b[0m \u001b[0mtext\u001b[0m\u001b[1;33m=\u001b[0m\u001b[1;32mTrue\u001b[0m\u001b[1;33m,\u001b[0m \u001b[0mcheck\u001b[0m\u001b[1;33m=\u001b[0m\u001b[1;32mTrue\u001b[0m\u001b[1;33m)\u001b[0m\u001b[1;33m\u001b[0m\u001b[1;33m\u001b[0m\u001b[0m\n\u001b[0m\u001b[0;32m      3\u001b[0m \u001b[1;33m\u001b[0m\u001b[0m\n\u001b[0;32m      4\u001b[0m \u001b[1;31m# print(process02.stderr)\u001b[0m\u001b[1;33m\u001b[0m\u001b[1;33m\u001b[0m\u001b[0m\n",
      "\u001b[1;32md:\\Anaconda\\lib\\subprocess.py\u001b[0m in \u001b[0;36mrun\u001b[1;34m(input, capture_output, timeout, check, *popenargs, **kwargs)\u001b[0m\n\u001b[0;32m    526\u001b[0m         \u001b[0mretcode\u001b[0m \u001b[1;33m=\u001b[0m \u001b[0mprocess\u001b[0m\u001b[1;33m.\u001b[0m\u001b[0mpoll\u001b[0m\u001b[1;33m(\u001b[0m\u001b[1;33m)\u001b[0m\u001b[1;33m\u001b[0m\u001b[1;33m\u001b[0m\u001b[0m\n\u001b[0;32m    527\u001b[0m         \u001b[1;32mif\u001b[0m \u001b[0mcheck\u001b[0m \u001b[1;32mand\u001b[0m \u001b[0mretcode\u001b[0m\u001b[1;33m:\u001b[0m\u001b[1;33m\u001b[0m\u001b[1;33m\u001b[0m\u001b[0m\n\u001b[1;32m--> 528\u001b[1;33m             raise CalledProcessError(retcode, process.args,\n\u001b[0m\u001b[0;32m    529\u001b[0m                                      output=stdout, stderr=stderr)\n\u001b[0;32m    530\u001b[0m     \u001b[1;32mreturn\u001b[0m \u001b[0mCompletedProcess\u001b[0m\u001b[1;33m(\u001b[0m\u001b[0mprocess\u001b[0m\u001b[1;33m.\u001b[0m\u001b[0margs\u001b[0m\u001b[1;33m,\u001b[0m \u001b[0mretcode\u001b[0m\u001b[1;33m,\u001b[0m \u001b[0mstdout\u001b[0m\u001b[1;33m,\u001b[0m \u001b[0mstderr\u001b[0m\u001b[1;33m)\u001b[0m\u001b[1;33m\u001b[0m\u001b[1;33m\u001b[0m\u001b[0m\n",
      "\u001b[1;31mCalledProcessError\u001b[0m: Command '['ls', '-la', 'dne']' returned non-zero exit status 2."
     ]
    }
   ],
   "source": [
    "# if you want python to raise an error when the command fails, you can use check=True\n",
    "process02 = subprocess.run(['ls', '-la', 'dne'], capture_output=True, text=True, check=True)\n",
    "\n"
   ]
  },
  {
   "cell_type": "code",
   "execution_count": 26,
   "metadata": {},
   "outputs": [
    {
     "name": "stdout",
     "output_type": "stream",
     "text": [
      "None\n"
     ]
    }
   ],
   "source": [
    "# if you wanna ignore the error, you can use try and except\n",
    "# or you can use subprocess.DEVNUll to ignore the error\n",
    "\n",
    "process02 = subprocess.run(['ls', '-la', 'dne'], stderr=subprocess.DEVNULL)\n",
    "\n",
    "print(process02.stderr) # it will print out None"
   ]
  },
  {
   "cell_type": "code",
   "execution_count": 38,
   "metadata": {},
   "outputs": [
    {
     "name": "stdout",
     "output_type": "stream",
     "text": [
      "----------------------------\n",
      "\n"
     ]
    }
   ],
   "source": [
    "import subprocess\n",
    "\n",
    "p1 = subprocess.run('cat test.txt', shell=True, capture_output=True, text=True)\n",
    "print(p1.stdout)\n",
    "\n",
    "print('----------------------------')\n",
    "\n",
    "p2 = subprocess.run('grep -n test', shell=True, capture_output=True, text=True, input=p1.stdout)\n",
    "print(p2.stdout)"
   ]
  }
 ],
 "metadata": {
  "kernelspec": {
   "display_name": "base",
   "language": "python",
   "name": "python3"
  },
  "language_info": {
   "codemirror_mode": {
    "name": "ipython",
    "version": 3
   },
   "file_extension": ".py",
   "mimetype": "text/x-python",
   "name": "python",
   "nbconvert_exporter": "python",
   "pygments_lexer": "ipython3",
   "version": "3.9.13"
  },
  "orig_nbformat": 4
 },
 "nbformat": 4,
 "nbformat_minor": 2
}
