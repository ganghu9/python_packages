{
 "cells": [
  {
   "cell_type": "code",
   "execution_count": 1,
   "id": "568e49b5",
   "metadata": {},
   "outputs": [],
   "source": [
    "# how to use closure in Python\n",
    "def power(exp):\n",
    "    def exp_of(base):\n",
    "        return base ** exp\n",
    "    return exp_of\n"
   ]
  },
  {
   "cell_type": "code",
   "execution_count": 5,
   "id": "6bb38d3a",
   "metadata": {},
   "outputs": [
    {
     "name": "stdout",
     "output_type": "stream",
     "text": [
      "4\n",
      "8\n",
      "25\n",
      "125\n"
     ]
    }
   ],
   "source": [
    "squre = power(2)\n",
    "cube = power(3)\n",
    "\n",
    "print(squre(2))\n",
    "print(cube(2))\n",
    "print(squre(5))\n",
    "print(cube(5))"
   ]
  },
  {
   "cell_type": "code",
   "execution_count": 6,
   "id": "dc865eed",
   "metadata": {},
   "outputs": [],
   "source": [
    "def outer():\n",
    "    x = 0\n",
    "    y = 0\n",
    "    def inner(x1, y1):\n",
    "        nonlocal x, y\n",
    "        \n",
    "        x += x1\n",
    "        y += y1\n",
    "        print(f'The value of x is {x} and y is {y}')\n",
    "        \n",
    "    return inner\n",
    "        "
   ]
  },
  {
   "cell_type": "code",
   "execution_count": 8,
   "id": "506771f2",
   "metadata": {},
   "outputs": [
    {
     "name": "stdout",
     "output_type": "stream",
     "text": [
      "The value of x is 1 and y is 2\n",
      "The value of x is -1 and y is 4\n"
     ]
    }
   ],
   "source": [
    "move = outer()\n",
    "move(1, 2)\n",
    "move(-2, 2)"
   ]
  },
  {
   "cell_type": "code",
   "execution_count": null,
   "id": "b24a710d",
   "metadata": {},
   "outputs": [],
   "source": []
  }
 ],
 "metadata": {
  "kernelspec": {
   "display_name": "Python 3 (ipykernel)",
   "language": "python",
   "name": "python3"
  },
  "language_info": {
   "codemirror_mode": {
    "name": "ipython",
    "version": 3
   },
   "file_extension": ".py",
   "mimetype": "text/x-python",
   "name": "python",
   "nbconvert_exporter": "python",
   "pygments_lexer": "ipython3",
   "version": "3.9.13"
  }
 },
 "nbformat": 4,
 "nbformat_minor": 5
}
