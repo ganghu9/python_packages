{
 "cells": [
  {
   "attachments": {},
   "cell_type": "markdown",
   "metadata": {},
   "source": [
    "## how to use pickle to dump and load the data"
   ]
  },
  {
   "attachments": {},
   "cell_type": "markdown",
   "metadata": {},
   "source": [
    "### write"
   ]
  },
  {
   "cell_type": "code",
   "execution_count": 1,
   "metadata": {},
   "outputs": [],
   "source": [
    "import pickle\n",
    "x, y, z = 1, 2, 3\n",
    "s = 'Hello World'\n",
    "l = [1, 2, 3, 'Hello', 'World']\n",
    "d = {'a': 1, 'b': 2, 'c': 3}\n",
    "\n",
    "with open('data.pkl', 'wb') as f: # wb: write binary\n",
    "    pickle.dump([x, y, z, s, l, d], f)"
   ]
  },
  {
   "attachments": {},
   "cell_type": "markdown",
   "metadata": {},
   "source": [
    "### Read"
   ]
  },
  {
   "cell_type": "code",
   "execution_count": 3,
   "metadata": {},
   "outputs": [
    {
     "name": "stdout",
     "output_type": "stream",
     "text": [
      "1\n",
      "2\n",
      "3\n",
      "Hello World\n",
      "[1, 2, 3, 'Hello', 'World']\n",
      "{'a': 1, 'b': 2, 'c': 3}\n"
     ]
    }
   ],
   "source": [
    "import pickle\n",
    "\n",
    "with open('data.pkl', 'rb') as f: # rb: read binary\n",
    "    x, y, z, s, l, d = pickle.load(f)\n",
    "\n",
    "print(x, y, z, s, l, d, sep='\\n')\n"
   ]
  }
 ],
 "metadata": {
  "kernelspec": {
   "display_name": "Python 3",
   "language": "python",
   "name": "python3"
  },
  "language_info": {
   "codemirror_mode": {
    "name": "ipython",
    "version": 3
   },
   "file_extension": ".py",
   "mimetype": "text/x-python",
   "name": "python",
   "nbconvert_exporter": "python",
   "pygments_lexer": "ipython3",
   "version": "3.11.0"
  },
  "orig_nbformat": 4
 },
 "nbformat": 4,
 "nbformat_minor": 2
}
